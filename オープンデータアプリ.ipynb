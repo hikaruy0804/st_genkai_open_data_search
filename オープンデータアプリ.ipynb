{
 "cells": [
  {
   "cell_type": "code",
   "execution_count": 7,
   "id": "8782638e-6793-4ad9-b61e-79cfcab5107d",
   "metadata": {},
   "outputs": [
    {
     "name": "stdout",
     "output_type": "stream",
     "text": [
      "1．現在地から玄海町役場（行政棟）まで53277メートルです。\n",
      "2．現在地から福祉施設（グループホーム玄海園）まで55013メートルです。\n",
      "3．現在地から福祉施設（デイサービスセンター玄海園）まで55013メートルです。\n",
      "4．現在地から特別養護老人ホーム玄海園まで55013メートルです。\n",
      "5．現在地から玄海海上温泉パレアまで55618メートルです。\n",
      "6．現在地からさくら児童館まで54605メートルです。\n",
      "7．現在地から玄海町保育所　あおば園まで54260メートルです。\n",
      "8．現在地から玄海町保育所　ふたば園まで55341メートルです。\n",
      "9．現在地から玄海町次世代エネルギーパーク　あすぴあまで55103メートルです。\n",
      "10．現在地から玄海みらい学園（校舎内児童用玄関）まで55089メートルです。\n",
      "11．現在地から玄海みらい学園（校舎内職員用玄関）まで55089メートルです。\n",
      "12．現在地から玄海町町民会館まで55264メートルです。\n",
      "13．現在地から玄海町野球場まで55034メートルです。\n",
      "14．現在地から値賀第２コミュニティセンターまで55232メートルです。\n",
      "☆☆☆最も近い場所は玄海町役場（行政棟）です。☆☆☆\n"
     ]
    }
   ],
   "source": [
    "###オープンデータAPI取得\n",
    "\n",
    "import requests\n",
    "import pandas as pd\n",
    "from geopy.distance import geodesic\n",
    "\n",
    "url = \"https://data.bodik.jp/api/3/action/datastore_search?resource_id=c9d523b9-0a5f-4095-8c28-0fb323d5d1f0\"\n",
    "res = requests.get(url)\n",
    "data = res.json()\n",
    "\n",
    "\n",
    "now_location = []\n",
    "geo_request_url = 'https://get.geojs.io/v1/ip/geo.json'\n",
    "geo_data = requests.get(geo_request_url).json()\n",
    "now_location = (geo_data['latitude'],geo_data['longitude'])\n",
    "\n",
    "##df = pd.DataFrame(columns=['名称', '緯度', '経度'])\n",
    "###building_data = []\n",
    "\n",
    "min_length = {}\n",
    "\n",
    "data = data['result']['records']\n",
    "for data in data:\n",
    "    id = data['_id']\n",
    "    place = data['名称']\n",
    "    place_data = (data['緯度'],data['経度'])\n",
    "    dis = geodesic(now_location, place_data).m\n",
    "    print(f'{id}．現在地から{place}まで{round(dis)}メートルです。')\n",
    "    min_length.setdefault(place, round(dis))\n",
    "    \n",
    "print(f'☆☆☆最も近い場所は{min(min_length.items(), key = lambda x:x[1])[0]}です。☆☆☆')"
   ]
  },
  {
   "cell_type": "code",
   "execution_count": null,
   "id": "3a1ad4ef-5eb3-4d81-a9a3-9dd1da89e64a",
   "metadata": {},
   "outputs": [],
   "source": []
  }
 ],
 "metadata": {
  "kernelspec": {
   "display_name": "Python 3",
   "language": "python",
   "name": "python3"
  },
  "language_info": {
   "codemirror_mode": {
    "name": "ipython",
    "version": 3
   },
   "file_extension": ".py",
   "mimetype": "text/x-python",
   "name": "python",
   "nbconvert_exporter": "python",
   "pygments_lexer": "ipython3",
   "version": "3.8.8"
  }
 },
 "nbformat": 4,
 "nbformat_minor": 5
}
