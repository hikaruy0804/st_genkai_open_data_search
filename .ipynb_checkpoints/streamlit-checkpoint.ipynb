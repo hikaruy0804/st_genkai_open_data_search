{
 "cells": [
  {
   "cell_type": "code",
   "execution_count": null,
   "id": "8800009b-b1df-4a9a-9444-97173c442fd3",
   "metadata": {},
   "outputs": [],
   "source": [
    "import streamlit as st\n",
    "import pandas as pd\n",
    "import numpy as np\n",
    "\n",
    "st.title('Sample App')\n",
    "\n",
    "options = st.multiselect(\n",
    "     'What are your favorite colors',\n",
    "     ['Green', 'Yellow', 'Red', 'Blue'],\n",
    "     ['Yellow', 'Red'])\n",
    "\n",
    "number = st.sidebar.slider('Pick a Num', 0, 100, 40)\n",
    "st.write(f'number: {number}')\n",
    "\n",
    "if number == 55:\n",
    "    st.sidebar.write('xxxxxxxxxx')\n",
    "\n",
    "left_col, a, right_col = st.columns(3)\n",
    "left_col.slider('Left', 0, 100)\n",
    "right_col.write('Right Column')\n",
    "a.write('Center Column')"
   ]
  }
 ],
 "metadata": {
  "kernelspec": {
   "display_name": "Python 3",
   "language": "python",
   "name": "python3"
  },
  "language_info": {
   "codemirror_mode": {
    "name": "ipython",
    "version": 3
   },
   "file_extension": ".py",
   "mimetype": "text/x-python",
   "name": "python",
   "nbconvert_exporter": "python",
   "pygments_lexer": "ipython3",
   "version": "3.8.8"
  }
 },
 "nbformat": 4,
 "nbformat_minor": 5
}
